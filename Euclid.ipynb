{
 "cells": [
  {
   "cell_type": "markdown",
   "metadata": {},
   "source": [
    "# Thuật toán Euclid tính GCD(a, b)"
   ]
  },
  {
   "cell_type": "code",
   "execution_count": 18,
   "metadata": {},
   "outputs": [],
   "source": [
    "def gcd(a, b):\n",
    "    a, b = sorted([a, b])\n",
    "    if(a == 0):\n",
    "        return b\n",
    "    if(a == b):\n",
    "        return a\n",
    "    else:\n",
    "        return gcd(a, b%a)"
   ]
  },
  {
   "cell_type": "markdown",
   "metadata": {},
   "source": [
    "### Ax + By = 1 \n",
    "#### (GCD(A, B) = 1)"
   ]
  },
  {
   "cell_type": "code",
   "execution_count": 60,
   "metadata": {},
   "outputs": [],
   "source": [
    "# nghịch đảo của A theo modul B\n",
    "def Modular_Inverse(B, A):\n",
    "    if(A > B):\n",
    "        A = A*B\n",
    "    if(A == 1):\n",
    "        return 1\n",
    "    if(A == 0):\n",
    "        return 0\n",
    "    if(B % A == 1):\n",
    "        return (B - B//A)\n",
    "    else:\n",
    "        x = Modular_Inverse(A, B%A)\n",
    "        xA = (1 - (B%A)*x)//A\n",
    "        rs = xA - B//A * x\n",
    "#         print(\"{0}*{1} + {2}*{3} = 1\".format(A, rs, B, x))\n",
    "        while(rs < 0):\n",
    "            rs += B\n",
    "        return rs"
   ]
  },
  {
   "cell_type": "code",
   "execution_count": 64,
   "metadata": {},
   "outputs": [
    {
     "data": {
      "text/plain": [
       "80"
      ]
     },
     "execution_count": 64,
     "metadata": {},
     "output_type": "execute_result"
    }
   ],
   "source": [
    "Modular_Inverse(81, 80)"
   ]
  },
  {
   "cell_type": "markdown",
   "metadata": {},
   "source": [
    "## Thuật toán tính lũy thừa nhanh"
   ]
  },
  {
   "cell_type": "code",
   "execution_count": 53,
   "metadata": {},
   "outputs": [
    {
     "name": "stdout",
     "output_type": "stream",
     "text": [
      "CPU times: user 3 µs, sys: 1 µs, total: 4 µs\n",
      "Wall time: 5.72 µs\n"
     ]
    },
    {
     "data": {
      "text/plain": [
       "1015"
      ]
     },
     "execution_count": 53,
     "metadata": {},
     "output_type": "execute_result"
    }
   ],
   "source": [
    "# a^b mod n\n",
    "%time\n",
    "def ModularExponentiation(a, b, n):\n",
    "    k = 0\n",
    "    while(2**k <= b):\n",
    "        k +=1\n",
    "    k -= 1\n",
    "    so_mu = []\n",
    "    \n",
    "    while(b > 0):\n",
    "        so_mu.append(k)\n",
    "        b -= 2**k\n",
    "        while(2**k > b):\n",
    "            k -= 1\n",
    "    so_mu = sorted(so_mu)\n",
    "    \n",
    "    # Tinh so du\n",
    "    temp = a%n\n",
    "    so_du = [temp]\n",
    "    for i in range(1, so_mu[-1]+1):\n",
    "        temp = (temp**2) % n\n",
    "        so_du.append(temp)\n",
    "    \n",
    "    # tinh so du a^b mod n\n",
    "    du = 1\n",
    "    for mu in so_mu:\n",
    "        du = (du*so_du[mu]) % n\n",
    "    return du\n",
    "\n",
    "ModularExponentiation(7, 1298123213012312, 1239)\n",
    "    "
   ]
  },
  {
   "cell_type": "code",
   "execution_count": 54,
   "metadata": {},
   "outputs": [
    {
     "name": "stdout",
     "output_type": "stream",
     "text": [
      "CPU times: user 3 µs, sys: 0 ns, total: 3 µs\n",
      "Wall time: 5.25 µs\n"
     ]
    },
    {
     "data": {
      "text/plain": [
       "1015"
      ]
     },
     "execution_count": 54,
     "metadata": {},
     "output_type": "execute_result"
    }
   ],
   "source": [
    "%time\n",
    "def dequy_ModularExponentiation(a, b, n):\n",
    "    if(b == 0):\n",
    "        return 1\n",
    "    if(b == 1):\n",
    "        return a%n\n",
    "\n",
    "    r = dequy_ModularExponentiation(a, b//2, n)\n",
    "    r = r*r\n",
    "    if(b % 2 == 1):\n",
    "        r = r*a\n",
    "    return r % n\n",
    "dequy_ModularExponentiation(7, 1298123213012312, 1239)"
   ]
  },
  {
   "cell_type": "code",
   "execution_count": null,
   "metadata": {},
   "outputs": [],
   "source": []
  }
 ],
 "metadata": {
  "kernelspec": {
   "display_name": "Python 3.8.5 64-bit ('base': conda)",
   "language": "python",
   "name": "python385jvsc74a57bd0f0007a6a2870adaf98220a10993bd4b1e9b6ff55b954c32edb1b3a9a68bf76fc"
  },
  "language_info": {
   "codemirror_mode": {
    "name": "ipython",
    "version": 3
   },
   "file_extension": ".py",
   "mimetype": "text/x-python",
   "name": "python",
   "nbconvert_exporter": "python",
   "pygments_lexer": "ipython3",
   "version": "3.8.5"
  }
 },
 "nbformat": 4,
 "nbformat_minor": 4
}
