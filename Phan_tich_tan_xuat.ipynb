{
 "cells": [
  {
   "cell_type": "code",
   "execution_count": 1,
   "metadata": {},
   "outputs": [],
   "source": [
    "import matplotlib.pyplot as plt"
   ]
  },
  {
   "cell_type": "code",
   "execution_count": 2,
   "metadata": {},
   "outputs": [],
   "source": [
    "y = \"iq ifcc vqqr fb rdq vfllcq na rdq cfjwhwz hr bnnb hcc hwwhbsqvqbre hwq vhlq\""
   ]
  },
  {
   "cell_type": "code",
   "execution_count": 11,
   "metadata": {},
   "outputs": [
    {
     "data": {
      "text/plain": [
       "['IQ',\n",
       " 'IFCC',\n",
       " 'VQQR',\n",
       " 'FB',\n",
       " 'RDQ',\n",
       " 'VFLLCQ',\n",
       " 'NA',\n",
       " 'RDQ',\n",
       " 'CFJWHWZ',\n",
       " 'HR',\n",
       " 'BNNB',\n",
       " 'HCC',\n",
       " 'HWWHBSQVQBRE',\n",
       " 'HWQ',\n",
       " 'VHLQ']"
      ]
     },
     "execution_count": 11,
     "metadata": {},
     "output_type": "execute_result"
    }
   ],
   "source": [
    "words = y.upper().split(sep=' ')\n",
    "words\n"
   ]
  },
  {
   "cell_type": "code",
   "execution_count": 16,
   "metadata": {},
   "outputs": [
    {
     "data": {
      "text/plain": [
       "Counter({'I': 2,\n",
       "         'Q': 10,\n",
       "         'F': 4,\n",
       "         'C': 6,\n",
       "         'V': 4,\n",
       "         'R': 5,\n",
       "         'B': 5,\n",
       "         'D': 2,\n",
       "         'L': 3,\n",
       "         'N': 3,\n",
       "         'A': 1,\n",
       "         'J': 1,\n",
       "         'W': 5,\n",
       "         'H': 7,\n",
       "         'Z': 1,\n",
       "         'S': 1,\n",
       "         'E': 1})"
      ]
     },
     "execution_count": 16,
     "metadata": {},
     "output_type": "execute_result"
    }
   ],
   "source": [
    "from collections import Counter\n",
    "Counter_words = Counter(list(y.upper()))\n",
    "Counter_words.pop(' ')\n",
    "Counter_words"
   ]
  },
  {
   "cell_type": "code",
   "execution_count": 24,
   "metadata": {
    "scrolled": true
   },
   "outputs": [
    {
     "data": {
      "image/png": "[encoded data removed]",
      "text/plain": [
       "<Figure size 432x288 with 1 Axes>"
      ]
     },
     "metadata": {
      "needs_background": "light"
     },
     "output_type": "display_data"
    }
   ],
   "source": [
    "def drawCountWord(Counter_words):\n",
    "    dict_words = dict(sorted(Counter_words.items(), key=lambda x: x[1], reverse=True))\n",
    "    label = list(dict_words.keys())\n",
    "    values = list(dict_words.values())\n",
    "    plt.bar(label, values)\n",
    "    plt.show()\n",
    "    return label\n",
    "label = drawCountWord(Counter_words)"
   ]
  },
  {
   "cell_type": "markdown",
   "metadata": {},
   "source": [
    "![title](tanxuat.png)"
   ]
  },
  {
   "cell_type": "code",
   "execution_count": 18,
   "metadata": {},
   "outputs": [],
   "source": [
    "label_az = list(\"ETAOINSHRDLCUMWFGYPBVKJXQZ\")"
   ]
  },
  {
   "cell_type": "markdown",
   "metadata": {},
   "source": [
    "ABCDEFGHIJKLMNOPKQSTUVWXYZ  \n",
    "DEC(Q) = E  \n",
    "DEC(H) = T  \n",
    "DEC(C) = A  \n",
    "DEC(R) = O  "
   ]
  },
  {
   "cell_type": "code",
   "execution_count": 30,
   "metadata": {},
   "outputs": [],
   "source": [
    "def GiaiMa(y, label, label_az):\n",
    "    y_ = y.upper()\n",
    "    for index in range(len(label)):\n",
    "        y_ = y_.replace(label[index], label_az[index].lower()) \n",
    "    return y_"
   ]
  },
  {
   "cell_type": "code",
   "execution_count": 31,
   "metadata": {},
   "outputs": [
    {
     "data": {
      "text/plain": [
       "'le lsaa heeo si oce hsrrae du oce asmntnw to iddi taa tnntifeheiog tne htre'"
      ]
     },
     "execution_count": 31,
     "metadata": {},
     "output_type": "execute_result"
    }
   ],
   "source": [
    "GiaiMa(y, label, label_az)"
   ]
  },
  {
   "cell_type": "code",
   "execution_count": 37,
   "metadata": {},
   "outputs": [
    {
     "data": {
      "text/plain": [
       "'QHCRBWFVLNIDAJZSE'"
      ]
     },
     "execution_count": 37,
     "metadata": {},
     "output_type": "execute_result"
    }
   ],
   "source": [
    "rs = ''.join(label)\n",
    "rs"
   ]
  },
  {
   "cell_type": "code",
   "execution_count": null,
   "metadata": {},
   "outputs": [],
   "source": []
  }
 ],
 "metadata": {
  "kernelspec": {
   "display_name": "Python 3",
   "language": "python",
   "name": "python3"
  },
  "language_info": {
   "codemirror_mode": {
    "name": "ipython",
    "version": 3
   },
   "file_extension": ".py",
   "mimetype": "text/x-python",
   "name": "python",
   "nbconvert_exporter": "python",
   "pygments_lexer": "ipython3",
   "version": "3.8.5"
  }
 },
 "nbformat": 4,
 "nbformat_minor": 4
}
