{
 "cells": [
  {
   "cell_type": "code",
   "execution_count": 96,
   "metadata": {},
   "outputs": [
    {
     "name": "stdout",
     "output_type": "stream",
     "text": [
      "CPU times: user 3 µs, sys: 0 ns, total: 3 µs\n",
      "Wall time: 5.48 µs\n",
      "CPU times: user 3 µs, sys: 0 ns, total: 3 µs\n",
      "Wall time: 5.72 µs\n"
     ]
    }
   ],
   "source": [
    "%run Euclid.ipynb"
   ]
  },
  {
   "cell_type": "markdown",
   "metadata": {},
   "source": [
    "### RSA"
   ]
  },
  {
   "cell_type": "code",
   "execution_count": 97,
   "metadata": {},
   "outputs": [],
   "source": [
    "def F(pk, m):\n",
    "    N = pk[0]\n",
    "    e = pk[1]\n",
    "    y = ModularExponentiation(m, e, N)\n",
    "    return y\n",
    "def F_giaima(sk, y):\n",
    "    N = sk[0]\n",
    "    d = sk[1]\n",
    "    m = ModularExponentiation(y, d, N)\n",
    "    return m\n",
    "\n",
    "def find_pd(N):\n",
    "    p = 2\n",
    "    while(N % p != 0):\n",
    "        p += 1\n",
    "    return (p, N//p)"
   ]
  },
  {
   "cell_type": "markdown",
   "metadata": {},
   "source": [
    "# Bài tập (Mã hoá với Textbook RSA)"
   ]
  },
  {
   "cell_type": "markdown",
   "metadata": {},
   "source": [
    "Alice đưa cho Bob khoá công khai RSA của cô ấy: mođun N = 2038667 và số mũ e = 103"
   ]
  },
  {
   "cell_type": "markdown",
   "metadata": {},
   "source": [
    "a) Bob muốn gửi cho Alice thông điệp m = 892383. Bản mã mà\n",
    "Bob gửi cho Alice là gì?"
   ]
  },
  {
   "cell_type": "code",
   "execution_count": 98,
   "metadata": {},
   "outputs": [
    {
     "data": {
      "text/plain": [
       "45293"
      ]
     },
     "execution_count": 98,
     "metadata": {},
     "output_type": "execute_result"
    }
   ],
   "source": [
    "N = 2038667\n",
    "e = 103\n",
    "m = 892383\n",
    "F((N, e), m) "
   ]
  },
  {
   "cell_type": "markdown",
   "metadata": {},
   "source": [
    "b) Alice biết rằng mođun N của cô ấy là tích của hai số nguyên\n",
    "tố, một trong hai số là p = 1301. Hãy tìm số mũ giải mã d cho\n",
    "Alice."
   ]
  },
  {
   "cell_type": "code",
   "execution_count": 99,
   "metadata": {},
   "outputs": [
    {
     "name": "stdout",
     "output_type": "stream",
     "text": [
      "810367\n"
     ]
    }
   ],
   "source": [
    "p, q = find_pd(N)\n",
    "d = Modular_Inverse((p-1)*(q-1), e)\n",
    "print(d)"
   ]
  },
  {
   "cell_type": "markdown",
   "metadata": {},
   "source": [
    "c) Alice nhận được bản mã c = 317730 từ Bob. Hãy giải mã."
   ]
  },
  {
   "cell_type": "code",
   "execution_count": 100,
   "metadata": {},
   "outputs": [
    {
     "data": {
      "text/plain": [
       "514407"
      ]
     },
     "execution_count": 100,
     "metadata": {},
     "output_type": "execute_result"
    }
   ],
   "source": [
    "c = 317730\n",
    "F_giaima((N, d), c)"
   ]
  },
  {
   "cell_type": "markdown",
   "metadata": {},
   "source": [
    "# Bài tập (Tấn công RSA với modun nhỏ)"
   ]
  },
  {
   "cell_type": "markdown",
   "metadata": {},
   "source": [
    "Khoá công khai RSA của Bob có mođun N = 12191 và số mũ e = 37.    \n",
    "• Alice gửi cho Bob bản mã c = 587.  \n",
    "• Không may, Bob đã chọn mođun kích thước quá nhỏ.  \n",
    "• Bạn hãy giúp Oscar giải mã"
   ]
  },
  {
   "cell_type": "code",
   "execution_count": 101,
   "metadata": {},
   "outputs": [],
   "source": [
    "N, e, c = 12191, 37, 587"
   ]
  },
  {
   "cell_type": "code",
   "execution_count": 102,
   "metadata": {},
   "outputs": [
    {
     "name": "stdout",
     "output_type": "stream",
     "text": [
      "73 167\n"
     ]
    }
   ],
   "source": [
    "p, q = find_pd(N)\n",
    "print(p, q)"
   ]
  },
  {
   "cell_type": "code",
   "execution_count": 103,
   "metadata": {},
   "outputs": [
    {
     "name": "stdout",
     "output_type": "stream",
     "text": [
      "11629\n"
     ]
    }
   ],
   "source": [
    "d = Modular_Inverse((p-1)*(q-1), e)\n",
    "print(d)"
   ]
  },
  {
   "cell_type": "code",
   "execution_count": 104,
   "metadata": {},
   "outputs": [
    {
     "name": "stdout",
     "output_type": "stream",
     "text": [
      "4894\n"
     ]
    }
   ],
   "source": [
    "m = F_giaima((N, d), c)\n",
    "print(m)"
   ]
  },
  {
   "cell_type": "code",
   "execution_count": null,
   "metadata": {},
   "outputs": [],
   "source": []
  }
 ],
 "metadata": {
  "kernelspec": {
   "display_name": "Python 3",
   "language": "python",
   "name": "python3"
  },
  "language_info": {
   "codemirror_mode": {
    "name": "ipython",
    "version": 3
   },
   "file_extension": ".py",
   "mimetype": "text/x-python",
   "name": "python",
   "nbconvert_exporter": "python",
   "pygments_lexer": "ipython3",
   "version": "3.8.5"
  }
 },
 "nbformat": 4,
 "nbformat_minor": 4
}
