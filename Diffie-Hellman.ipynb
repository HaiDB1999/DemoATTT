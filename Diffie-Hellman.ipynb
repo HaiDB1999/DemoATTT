{
 "cells": [
  {
   "cell_type": "code",
   "execution_count": 1,
   "metadata": {},
   "outputs": [
    {
     "name": "stdout",
     "output_type": "stream",
     "text": [
      "CPU times: user 2 µs, sys: 0 ns, total: 2 µs\n",
      "Wall time: 3.34 µs\n",
      "CPU times: user 1e+03 ns, sys: 0 ns, total: 1e+03 ns\n",
      "Wall time: 3.1 µs\n"
     ]
    }
   ],
   "source": [
    "%run Euclid.ipynb"
   ]
  },
  {
   "cell_type": "markdown",
   "metadata": {},
   "source": [
    "### Bài tập\n",
    "• Alice và Bob dùng số nguyên tố p = 1373 và cơ sở g = 2 để trao đổi khóa.  \n",
    "• Alice gửi Bob giá trị A = 974.  \n",
    "• Bob chọn số bí mật b = 871.  \n",
    "• Bob nên gửi cho Alice giá trị gì, và khóa bí mật họ chia sẻ là gì?  \n",
    "• Bạn có thể đoán được số bí mật a của Alice không?"
   ]
  },
  {
   "cell_type": "markdown",
   "metadata": {},
   "source": [
    "##### Bob nên gửi cho Alice giá trị gì, và khóa bí mật họ chia sẻ là gì?"
   ]
  },
  {
   "cell_type": "code",
   "execution_count": 14,
   "metadata": {},
   "outputs": [
    {
     "name": "stdout",
     "output_type": "stream",
     "text": [
      "B = 805\n"
     ]
    }
   ],
   "source": [
    "# g^b mod p\n",
    "g, b, p = 2, 871, 1373\n",
    "B = ModularExponentiation(g, b, p)\n",
    "print(\"B = \" + str(B))"
   ]
  },
  {
   "cell_type": "markdown",
   "metadata": {},
   "source": [
    "1. Bob tính khóa bí mật"
   ]
  },
  {
   "cell_type": "code",
   "execution_count": 16,
   "metadata": {},
   "outputs": [
    {
     "name": "stdout",
     "output_type": "stream",
     "text": [
      "Khoa bi mat: 397\n"
     ]
    }
   ],
   "source": [
    "# A^b mod p\n",
    "A, b, p = 974, 871, 1373\n",
    "print(\"Khoa bi mat: \" + str(ModularExponentiation(A, b, p)) )"
   ]
  },
  {
   "cell_type": "markdown",
   "metadata": {},
   "source": [
    "##### Bạn có thể đoán được số bí mật a của Alice không?"
   ]
  },
  {
   "cell_type": "code",
   "execution_count": 17,
   "metadata": {},
   "outputs": [
    {
     "name": "stdout",
     "output_type": "stream",
     "text": [
      "a = 587\n"
     ]
    }
   ],
   "source": [
    "a = 1\n",
    "for x in range(1, p):\n",
    "    if(ModularExponentiation(g, x, p) == A):\n",
    "        a = x\n",
    "        print(\"a = \" + str(a)) "
   ]
  },
  {
   "cell_type": "markdown",
   "metadata": {},
   "source": [
    "2. Alice tính khóa bí mật"
   ]
  },
  {
   "cell_type": "code",
   "execution_count": 18,
   "metadata": {},
   "outputs": [
    {
     "name": "stdout",
     "output_type": "stream",
     "text": [
      "Khoa bi mat: 397\n"
     ]
    }
   ],
   "source": [
    "print(\"Khoa bi mat: \" + str(ModularExponentiation(B, a, p)) )"
   ]
  }
 ],
 "metadata": {
  "kernelspec": {
   "display_name": "Python 3",
   "language": "python",
   "name": "python3"
  },
  "language_info": {
   "codemirror_mode": {
    "name": "ipython",
    "version": 3
   },
   "file_extension": ".py",
   "mimetype": "text/x-python",
   "name": "python",
   "nbconvert_exporter": "python",
   "pygments_lexer": "ipython3",
   "version": "3.8.5"
  }
 },
 "nbformat": 4,
 "nbformat_minor": 4
}
